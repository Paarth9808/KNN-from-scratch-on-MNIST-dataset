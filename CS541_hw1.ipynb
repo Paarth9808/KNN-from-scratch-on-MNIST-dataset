{
 "cells": [
  {
   "cell_type": "code",
   "execution_count": 28,
   "id": "75da22a3",
   "metadata": {},
   "outputs": [],
   "source": [
    "import numpy as np\n",
    "import pandas as pd\n",
    "import matplotlib.pyplot as plt\n",
    "import random\n",
    "from sklearn import preprocessing\n",
    "from tqdm import tqdm "
   ]
  },
  {
   "cell_type": "code",
   "execution_count": 29,
   "id": "143e2f42",
   "metadata": {},
   "outputs": [],
   "source": [
    "from mnist import MNIST\n",
    "\n",
    "mndata = MNIST('samples')"
   ]
  },
  {
   "cell_type": "code",
   "execution_count": 30,
   "id": "fd2211ea",
   "metadata": {},
   "outputs": [],
   "source": [
    "# get training data\n",
    "X_train, y_train = mndata.load_training()"
   ]
  },
  {
   "cell_type": "code",
   "execution_count": 31,
   "id": "d96e630f",
   "metadata": {},
   "outputs": [],
   "source": [
    "# converting into numpy array data\n",
    "X_train = np.array(X_train)\n",
    "y_train = np.array(y_train)"
   ]
  },
  {
   "cell_type": "code",
   "execution_count": 32,
   "id": "90b6ddd6",
   "metadata": {},
   "outputs": [],
   "source": [
    "# slicing the dataset to required dimension\n",
    "X_train = X_train[:15000]\n",
    "y_train = y_train[:15000]"
   ]
  },
  {
   "cell_type": "code",
   "execution_count": 33,
   "id": "05c5271b",
   "metadata": {},
   "outputs": [],
   "source": [
    "# get testing data\n",
    "X_test, y_test = mndata.load_testing()"
   ]
  },
  {
   "cell_type": "code",
   "execution_count": 34,
   "id": "ece6c137",
   "metadata": {},
   "outputs": [],
   "source": [
    "X_test = np.array(X_test)\n",
    "y_test = np.array(y_test)"
   ]
  },
  {
   "cell_type": "code",
   "execution_count": 35,
   "id": "fa41c61c",
   "metadata": {},
   "outputs": [],
   "source": [
    "# slicing the dataset to required dimension\n",
    "X_test = X_test[:2500]\n",
    "y_test = y_test[:2500]"
   ]
  },
  {
   "cell_type": "code",
   "execution_count": 36,
   "id": "5b34a060",
   "metadata": {},
   "outputs": [
    {
     "name": "stdout",
     "output_type": "stream",
     "text": [
      "X_train: (15000, 784)\n",
      "Y_train: (15000,)\n",
      "X_test:  (2500, 784)\n",
      "Y_test:  (2500,)\n"
     ]
    }
   ],
   "source": [
    "print('X_train: ' + str(X_train.shape))\n",
    "print('Y_train: ' + str(y_train.shape))\n",
    "print('X_test:  '  + str(X_test.shape))\n",
    "print('Y_test:  '  + str(y_test.shape))"
   ]
  },
  {
   "cell_type": "code",
   "execution_count": 37,
   "id": "8bc3ac36",
   "metadata": {},
   "outputs": [
    {
     "name": "stdout",
     "output_type": "stream",
     "text": [
      "The image label of index 0 is 7.\n"
     ]
    },
    {
     "data": {
      "image/png": "[encoded data removed]",
      "text/plain": [
       "<Figure size 432x288 with 1 Axes>"
      ]
     },
     "metadata": {
      "needs_background": "light"
     },
     "output_type": "display_data"
    },
    {
     "name": "stdout",
     "output_type": "stream",
     "text": [
      "**************\n"
     ]
    }
   ],
   "source": [
    "#X_test[0]\n",
    "digit = X_test[0]\n",
    "print('The image label of index %d is %d.' %(0, y_test[0]))\n",
    "digit_image = digit.reshape(28, 28)\n",
    "plt.imshow(digit_image, cmap='gray')\n",
    "plt.axis(\"off\")\n",
    "plt.show()\n",
    "print(\"**************\")"
   ]
  },
  {
   "cell_type": "code",
   "execution_count": 38,
   "id": "c49422ec",
   "metadata": {},
   "outputs": [
    {
     "name": "stdout",
     "output_type": "stream",
     "text": [
      "The image label of index 10177 is 4.\n"
     ]
    },
    {
     "data": {
      "image/png": "[encoded data removed]",
      "text/plain": [
       "<Figure size 432x288 with 1 Axes>"
      ]
     },
     "metadata": {
      "needs_background": "light"
     },
     "output_type": "display_data"
    },
    {
     "name": "stdout",
     "output_type": "stream",
     "text": [
      "**************\n",
      "The image label of index 12731 is 4.\n"
     ]
    },
    {
     "data": {
      "image/png": "[encoded data removed]",
      "text/plain": [
       "<Figure size 432x288 with 1 Axes>"
      ]
     },
     "metadata": {
      "needs_background": "light"
     },
     "output_type": "display_data"
    },
    {
     "name": "stdout",
     "output_type": "stream",
     "text": [
      "**************\n",
      "The image label of index 9596 is 6.\n"
     ]
    },
    {
     "data": {
      "image/png": "[encoded data removed]",
      "text/plain": [
       "<Figure size 432x288 with 1 Axes>"
      ]
     },
     "metadata": {
      "needs_background": "light"
     },
     "output_type": "display_data"
    },
    {
     "name": "stdout",
     "output_type": "stream",
     "text": [
      "**************\n",
      "The image label of index 11580 is 9.\n"
     ]
    },
    {
     "data": {
      "image/png": "[encoded data removed]",
      "text/plain": [
       "<Figure size 432x288 with 1 Axes>"
      ]
     },
     "metadata": {
      "needs_background": "light"
     },
     "output_type": "display_data"
    },
    {
     "name": "stdout",
     "output_type": "stream",
     "text": [
      "**************\n",
      "The image label of index 14968 is 8.\n"
     ]
    },
    {
     "data": {
      "image/png": "[encoded data removed]",
      "text/plain": [
       "<Figure size 432x288 with 1 Axes>"
      ]
     },
     "metadata": {
      "needs_background": "light"
     },
     "output_type": "display_data"
    },
    {
     "name": "stdout",
     "output_type": "stream",
     "text": [
      "**************\n",
      "The image label of index 12836 is 3.\n"
     ]
    },
    {
     "data": {
      "image/png": "[encoded data removed]",
      "text/plain": [
       "<Figure size 432x288 with 1 Axes>"
      ]
     },
     "metadata": {
      "needs_background": "light"
     },
     "output_type": "display_data"
    },
    {
     "name": "stdout",
     "output_type": "stream",
     "text": [
      "**************\n",
      "The image label of index 3671 is 6.\n"
     ]
    },
    {
     "data": {
      "image/png": "[encoded data removed]",
      "text/plain": [
       "<Figure size 432x288 with 1 Axes>"
      ]
     },
     "metadata": {
      "needs_background": "light"
     },
     "output_type": "display_data"
    },
    {
     "name": "stdout",
     "output_type": "stream",
     "text": [
      "**************\n",
      "The image label of index 4775 is 1.\n"
     ]
    },
    {
     "data": {
      "image/png": "[encoded data removed]",
      "text/plain": [
       "<Figure size 432x288 with 1 Axes>"
      ]
     },
     "metadata": {
      "needs_background": "light"
     },
     "output_type": "display_data"
    },
    {
     "name": "stdout",
     "output_type": "stream",
     "text": [
      "**************\n",
      "The image label of index 4125 is 4.\n"
     ]
    },
    {
     "data": {
      "image/png": "[encoded data removed]",
      "text/plain": [
       "<Figure size 432x288 with 1 Axes>"
      ]
     },
     "metadata": {
      "needs_background": "light"
     },
     "output_type": "display_data"
    },
    {
     "name": "stdout",
     "output_type": "stream",
     "text": [
      "**************\n",
      "The image label of index 1165 is 2.\n"
     ]
    },
    {
     "data": {
      "image/png": "[encoded data removed]",
      "text/plain": [
       "<Figure size 432x288 with 1 Axes>"
      ]
     },
     "metadata": {
      "needs_background": "light"
     },
     "output_type": "display_data"
    },
    {
     "name": "stdout",
     "output_type": "stream",
     "text": [
      "**************\n"
     ]
    }
   ],
   "source": [
    "#printing 10 random digits from training \n",
    "temp1 = []\n",
    "for i in range(10):\n",
    "    n = random.randint(0,X_train.shape[0])\n",
    "    temp1.append(n)\n",
    "    digit = X_train[n]\n",
    "    print('The image label of index %d is %d.' %(n, y_train[n]))\n",
    "    digit_image = digit.reshape(28, 28)\n",
    "    plt.imshow(digit_image, cmap='gray')\n",
    "    plt.axis(\"off\")\n",
    "    plt.show()\n",
    "    print(\"**************\")"
   ]
  },
  {
   "cell_type": "code",
   "execution_count": 39,
   "id": "2953d7c3",
   "metadata": {},
   "outputs": [
    {
     "name": "stdout",
     "output_type": "stream",
     "text": [
      "The image label of index 1057 is 4.\n"
     ]
    },
    {
     "data": {
      "image/png": "[encoded data removed]",
      "text/plain": [
       "<Figure size 432x288 with 1 Axes>"
      ]
     },
     "metadata": {
      "needs_background": "light"
     },
     "output_type": "display_data"
    },
    {
     "name": "stdout",
     "output_type": "stream",
     "text": [
      "**************\n",
      "The image label of index 1880 is 6.\n"
     ]
    },
    {
     "data": {
      "image/png": "[encoded data removed]",
      "text/plain": [
       "<Figure size 432x288 with 1 Axes>"
      ]
     },
     "metadata": {
      "needs_background": "light"
     },
     "output_type": "display_data"
    },
    {
     "name": "stdout",
     "output_type": "stream",
     "text": [
      "**************\n",
      "The image label of index 1122 is 7.\n"
     ]
    },
    {
     "data": {
      "image/png": "[encoded data removed]",
      "text/plain": [
       "<Figure size 432x288 with 1 Axes>"
      ]
     },
     "metadata": {
      "needs_background": "light"
     },
     "output_type": "display_data"
    },
    {
     "name": "stdout",
     "output_type": "stream",
     "text": [
      "**************\n",
      "The image label of index 1076 is 2.\n"
     ]
    },
    {
     "data": {
      "image/png": "[encoded data removed]",
      "text/plain": [
       "<Figure size 432x288 with 1 Axes>"
      ]
     },
     "metadata": {
      "needs_background": "light"
     },
     "output_type": "display_data"
    },
    {
     "name": "stdout",
     "output_type": "stream",
     "text": [
      "**************\n",
      "The image label of index 2140 is 6.\n"
     ]
    },
    {
     "data": {
      "image/png": "[encoded data removed]",
      "text/plain": [
       "<Figure size 432x288 with 1 Axes>"
      ]
     },
     "metadata": {
      "needs_background": "light"
     },
     "output_type": "display_data"
    },
    {
     "name": "stdout",
     "output_type": "stream",
     "text": [
      "**************\n",
      "The image label of index 1489 is 3.\n"
     ]
    },
    {
     "data": {
      "image/png": "[encoded data removed]",
      "text/plain": [
       "<Figure size 432x288 with 1 Axes>"
      ]
     },
     "metadata": {
      "needs_background": "light"
     },
     "output_type": "display_data"
    },
    {
     "name": "stdout",
     "output_type": "stream",
     "text": [
      "**************\n",
      "The image label of index 364 is 5.\n"
     ]
    },
    {
     "data": {
      "image/png": "[encoded data removed]",
      "text/plain": [
       "<Figure size 432x288 with 1 Axes>"
      ]
     },
     "metadata": {
      "needs_background": "light"
     },
     "output_type": "display_data"
    },
    {
     "name": "stdout",
     "output_type": "stream",
     "text": [
      "**************\n",
      "The image label of index 2261 is 1.\n"
     ]
    },
    {
     "data": {
      "image/png": "[encoded data removed]",
      "text/plain": [
       "<Figure size 432x288 with 1 Axes>"
      ]
     },
     "metadata": {
      "needs_background": "light"
     },
     "output_type": "display_data"
    },
    {
     "name": "stdout",
     "output_type": "stream",
     "text": [
      "**************\n",
      "The image label of index 165 is 5.\n"
     ]
    },
    {
     "data": {
      "image/png": "[encoded data removed]",
      "text/plain": [
       "<Figure size 432x288 with 1 Axes>"
      ]
     },
     "metadata": {
      "needs_background": "light"
     },
     "output_type": "display_data"
    },
    {
     "name": "stdout",
     "output_type": "stream",
     "text": [
      "**************\n",
      "The image label of index 1310 is 3.\n"
     ]
    },
    {
     "data": {
      "image/png": "[encoded data removed]",
      "text/plain": [
       "<Figure size 432x288 with 1 Axes>"
      ]
     },
     "metadata": {
      "needs_background": "light"
     },
     "output_type": "display_data"
    },
    {
     "name": "stdout",
     "output_type": "stream",
     "text": [
      "**************\n"
     ]
    }
   ],
   "source": [
    "#printing 10 random digits from testing  \n",
    "temp2 = []\n",
    "for i in range(10):\n",
    "    n = random.randint(0,X_test.shape[0])\n",
    "    temp2.append(n)\n",
    "    digit = X_test[n]\n",
    "    print('The image label of index %d is %d.' %(n, y_test[n]))\n",
    "    digit_image = digit.reshape(28, 28)\n",
    "    plt.imshow(digit_image, cmap='gray')\n",
    "    plt.axis(\"off\")\n",
    "    plt.show()\n",
    "    print(\"**************\")"
   ]
  },
  {
   "cell_type": "code",
   "execution_count": 40,
   "id": "3572e326",
   "metadata": {},
   "outputs": [],
   "source": [
    "# normalizing the X_train\n",
    "\n",
    "# feature normalisation for training and testing\n",
    "X_train_1 = preprocessing.normalize(X_train, norm='l2', axis=0)\n",
    "X_test_1 = preprocessing.normalize(X_test, norm='l2', axis=0)"
   ]
  },
  {
   "cell_type": "code",
   "execution_count": 41,
   "id": "456bf555",
   "metadata": {},
   "outputs": [],
   "source": [
    "# normalizing the X_train\n",
    "\n",
    "# column normalisation for training and testing\n",
    "X_train_2 = preprocessing.normalize(X_train, norm='l2', axis=1)\n",
    "X_test_2 = preprocessing.normalize(X_test, norm='l2', axis=1)"
   ]
  },
  {
   "cell_type": "code",
   "execution_count": 72,
   "id": "13bb4562",
   "metadata": {},
   "outputs": [
    {
     "name": "stdout",
     "output_type": "stream",
     "text": [
      "The image label of index 10177 is 4.\n"
     ]
    },
    {
     "data": {
      "image/png": "[encoded data removed]",
      "text/plain": [
       "<Figure size 432x288 with 1 Axes>"
      ]
     },
     "metadata": {
      "needs_background": "light"
     },
     "output_type": "display_data"
    },
    {
     "name": "stdout",
     "output_type": "stream",
     "text": [
      "**************\n",
      "The image label of index 12731 is 4.\n"
     ]
    },
    {
     "data": {
      "image/png": "[encoded data removed]",
      "text/plain": [
       "<Figure size 432x288 with 1 Axes>"
      ]
     },
     "metadata": {
      "needs_background": "light"
     },
     "output_type": "display_data"
    },
    {
     "name": "stdout",
     "output_type": "stream",
     "text": [
      "**************\n",
      "The image label of index 9596 is 6.\n"
     ]
    },
    {
     "data": {
      "image/png": "[encoded data removed]",
      "text/plain": [
       "<Figure size 432x288 with 1 Axes>"
      ]
     },
     "metadata": {
      "needs_background": "light"
     },
     "output_type": "display_data"
    },
    {
     "name": "stdout",
     "output_type": "stream",
     "text": [
      "**************\n",
      "The image label of index 11580 is 9.\n"
     ]
    },
    {
     "data": {
      "image/png": "[encoded data removed]",
      "text/plain": [
       "<Figure size 432x288 with 1 Axes>"
      ]
     },
     "metadata": {
      "needs_background": "light"
     },
     "output_type": "display_data"
    },
    {
     "name": "stdout",
     "output_type": "stream",
     "text": [
      "**************\n",
      "The image label of index 14968 is 8.\n"
     ]
    },
    {
     "data": {
      "image/png": "[encoded data removed]",
      "text/plain": [
       "<Figure size 432x288 with 1 Axes>"
      ]
     },
     "metadata": {
      "needs_background": "light"
     },
     "output_type": "display_data"
    },
    {
     "name": "stdout",
     "output_type": "stream",
     "text": [
      "**************\n",
      "The image label of index 12836 is 3.\n"
     ]
    },
    {
     "data": {
      "image/png": "[encoded data removed]",
      "text/plain": [
       "<Figure size 432x288 with 1 Axes>"
      ]
     },
     "metadata": {
      "needs_background": "light"
     },
     "output_type": "display_data"
    },
    {
     "name": "stdout",
     "output_type": "stream",
     "text": [
      "**************\n",
      "The image label of index 3671 is 6.\n"
     ]
    },
    {
     "data": {
      "image/png": "[encoded data removed]",
      "text/plain": [
       "<Figure size 432x288 with 1 Axes>"
      ]
     },
     "metadata": {
      "needs_background": "light"
     },
     "output_type": "display_data"
    },
    {
     "name": "stdout",
     "output_type": "stream",
     "text": [
      "**************\n",
      "The image label of index 4775 is 1.\n"
     ]
    },
    {
     "data": {
      "image/png": "[encoded data removed]",
      "text/plain": [
       "<Figure size 432x288 with 1 Axes>"
      ]
     },
     "metadata": {
      "needs_background": "light"
     },
     "output_type": "display_data"
    },
    {
     "name": "stdout",
     "output_type": "stream",
     "text": [
      "**************\n",
      "The image label of index 4125 is 4.\n"
     ]
    },
    {
     "data": {
      "image/png": "[encoded data removed]",
      "text/plain": [
       "<Figure size 432x288 with 1 Axes>"
      ]
     },
     "metadata": {
      "needs_background": "light"
     },
     "output_type": "display_data"
    },
    {
     "name": "stdout",
     "output_type": "stream",
     "text": [
      "**************\n",
      "The image label of index 1165 is 2.\n"
     ]
    },
    {
     "data": {
      "image/png": "[encoded data removed]",
      "text/plain": [
       "<Figure size 432x288 with 1 Axes>"
      ]
     },
     "metadata": {
      "needs_background": "light"
     },
     "output_type": "display_data"
    },
    {
     "name": "stdout",
     "output_type": "stream",
     "text": [
      "**************\n"
     ]
    }
   ],
   "source": [
    "#comparing the same training image after normalization\n",
    "for i in temp1:\n",
    "    digit = X_train_1[i]\n",
    "    print('The image label of index %d is %d.' %(i, y_train[i]))\n",
    "    digit_image = digit.reshape(28, 28)\n",
    "    plt.imshow(digit_image, cmap='gray')\n",
    "    plt.axis(\"off\")\n",
    "    plt.show()\n",
    "    print(\"**************\")"
   ]
  },
  {
   "cell_type": "code",
   "execution_count": 52,
   "id": "2e875fbc",
   "metadata": {},
   "outputs": [],
   "source": [
    "def dist(xtrain, xtest):\n",
    "    m, dimensions= xtrain.shape\n",
    "    n, dimensions= xtest.shape\n",
    "    size= (m, n)\n",
    "    distance = np.zeros(size)\n",
    "    for i in tqdm(range (m)):\n",
    "        for j in range(n):\n",
    "            diff = np.subtract(xtrain[i], xtest[j])\n",
    "            diff = diff ** 2\n",
    "            diff = diff.sum(axis=0)\n",
    "            distance[i][j]= np.sqrt(diff)\n",
    "\n",
    "    return distance"
   ]
  },
  {
   "cell_type": "code",
   "execution_count": 53,
   "id": "0362dd82",
   "metadata": {},
   "outputs": [
    {
     "name": "stderr",
     "output_type": "stream",
     "text": [
      "100%|████████████████████████████████████████████████████████████████████████████| 15000/15000 [07:22<00:00, 33.93it/s]\n"
     ]
    }
   ],
   "source": [
    "M = dist(X_train_2, X_test_2)"
   ]
  },
  {
   "cell_type": "code",
   "execution_count": 54,
   "id": "491036e9",
   "metadata": {},
   "outputs": [],
   "source": [
    "def retrieve_k(i, M, k):\n",
    "\n",
    "    lst = M[:,i] \n",
    "    indiceList = np.argsort(lst)[:k]    \n",
    "        \n",
    "    return indiceList"
   ]
  },
  {
   "cell_type": "code",
   "execution_count": 45,
   "id": "e43b15c5",
   "metadata": {},
   "outputs": [
    {
     "data": {
      "text/plain": [
       "array([14563, 14770, 14505,  9444,  9724,  1673,  4130,  6475,  3298,\n",
       "        6525], dtype=int64)"
      ]
     },
     "execution_count": 45,
     "metadata": {},
     "output_type": "execute_result"
    }
   ],
   "source": [
    "retrieve_k(0, M, 10)"
   ]
  },
  {
   "cell_type": "code",
   "execution_count": 55,
   "id": "9f166329",
   "metadata": {},
   "outputs": [
    {
     "data": {
      "text/plain": [
       "(15000, 2500)"
      ]
     },
     "execution_count": 55,
     "metadata": {},
     "output_type": "execute_result"
    }
   ],
   "source": [
    "M.shape"
   ]
  },
  {
   "cell_type": "code",
   "execution_count": 64,
   "id": "1501d113",
   "metadata": {},
   "outputs": [],
   "source": [
    "def precision_k(y, ytrain, I):\n",
    "    sum_ = 0\n",
    "    for i in I:\n",
    "        if ytrain[i] == y:\n",
    "            sum_+=1\n",
    "    return sum_/len(I)"
   ]
  },
  {
   "cell_type": "code",
   "execution_count": 65,
   "id": "50880651",
   "metadata": {},
   "outputs": [],
   "source": [
    "def avg_precision_k(Xtrain, ytrain, Xtest, ytest, k, m):\n",
    "    s = 0\n",
    "    for i in tqdm(range(len(ytest))):\n",
    "        #I = []\n",
    "        I = retrieve_k(i, m, k)\n",
    "        s += precision_k(ytest[i], ytrain, I)\n",
    "    return s/len(Xtest)"
   ]
  },
  {
   "cell_type": "code",
   "execution_count": 66,
   "id": "3460af27",
   "metadata": {},
   "outputs": [
    {
     "name": "stderr",
     "output_type": "stream",
     "text": [
      "100%|█████████████████████████████████████████████████████████████████████████████| 2500/2500 [00:05<00:00, 482.18it/s]\n",
      "100%|█████████████████████████████████████████████████████████████████████████████| 2500/2500 [00:04<00:00, 546.14it/s]\n",
      "100%|█████████████████████████████████████████████████████████████████████████████| 2500/2500 [00:04<00:00, 501.10it/s]\n",
      "100%|█████████████████████████████████████████████████████████████████████████████| 2500/2500 [00:04<00:00, 514.00it/s]\n",
      "100%|█████████████████████████████████████████████████████████████████████████████| 2500/2500 [00:04<00:00, 511.68it/s]\n",
      "100%|█████████████████████████████████████████████████████████████████████████████| 2500/2500 [00:04<00:00, 528.20it/s]\n",
      "100%|█████████████████████████████████████████████████████████████████████████████| 2500/2500 [00:04<00:00, 598.82it/s]\n",
      "100%|█████████████████████████████████████████████████████████████████████████████| 2500/2500 [00:05<00:00, 478.38it/s]\n",
      "100%|█████████████████████████████████████████████████████████████████████████████| 2500/2500 [00:05<00:00, 490.00it/s]\n",
      "100%|█████████████████████████████████████████████████████████████████████████████| 2500/2500 [00:05<00:00, 446.17it/s]\n"
     ]
    }
   ],
   "source": [
    "\"\"\"For each k 2 {1, 2, 5, 10, 20, 50, 100, 200, 500, 1000}, calculate the average precision at k and the\n",
    "running time of retrieval. Plot the average precision curve against k and summarize your findings.\"\"\"\n",
    "k = [1, 2, 5, 10, 20, 50, 100, 200, 500, 1000]\n",
    "temp = []\n",
    "for i in k:\n",
    "    temp.append(avg_precision_k(X_train_2, y_train, X_test_2, y_test, i, M))"
   ]
  },
  {
   "cell_type": "code",
   "execution_count": 67,
   "id": "fd6f04c9",
   "metadata": {},
   "outputs": [
    {
     "data": {
      "text/plain": [
       "[0.9436,\n",
       " 0.936,\n",
       " 0.917999999999999,\n",
       " 0.9000800000000039,\n",
       " 0.8749000000000032,\n",
       " 0.8256960000000061,\n",
       " 0.7765240000000031,\n",
       " 0.7123819999999985,\n",
       " 0.6004760000000007,\n",
       " 0.48379360000000016]"
      ]
     },
     "execution_count": 67,
     "metadata": {},
     "output_type": "execute_result"
    }
   ],
   "source": [
    "# Avg precision values\n",
    "temp"
   ]
  },
  {
   "cell_type": "code",
   "execution_count": 68,
   "id": "a384db23",
   "metadata": {},
   "outputs": [
    {
     "data": {
      "image/png": "[encoded data removed]",
      "text/plain": [
       "<Figure size 432x288 with 1 Axes>"
      ]
     },
     "metadata": {
      "needs_background": "light"
     },
     "output_type": "display_data"
    }
   ],
   "source": [
    "# plotting the k vs avg_precision\n",
    "plt.scatter(k, temp)\n",
    "plt.plot(k, temp)\n",
    "plt.xlabel(\"K\")\n",
    "plt.ylabel(\"average precision\")\n",
    "plt.show()"
   ]
  }
 ],
 "metadata": {
  "kernelspec": {
   "display_name": "Python 3 (ipykernel)",
   "language": "python",
   "name": "python3"
  },
  "language_info": {
   "codemirror_mode": {
    "name": "ipython",
    "version": 3
   },
   "file_extension": ".py",
   "mimetype": "text/x-python",
   "name": "python",
   "nbconvert_exporter": "python",
   "pygments_lexer": "ipython3",
   "version": "3.9.12"
  }
 },
 "nbformat": 4,
 "nbformat_minor": 5
}
